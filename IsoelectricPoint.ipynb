{
 "cells": [
  {
   "cell_type": "markdown",
   "metadata": {},
   "source": [
    "# IsoelectricPoint.jl\n",
    "---\n",
    "### Author : Manas Mahale <<manas.mahale@bcp.edu.in>>"
   ]
  },
  {
   "cell_type": "markdown",
   "metadata": {},
   "source": [
    "Calculate isoelectric points of polypeptides using methods of Bjellqvist. \\\n",
    "pK values and the methods are taken from \n",
    "- Bjellqvist, B.,Hughes, G.J., Pasquali, Ch., Paquet, N., Ravier, F.,\\\n",
    "    Sanchez, J.-Ch., Frutiger, S. & Hochstrasser, D.F.\\\n",
    "    The focusing positions of polypeptides in immobilized pH gradients can be\\\n",
    "    predicted from their amino acid sequences. Electrophoresis 1993, 14,\\\n",
    "    1023-1031.\n",
    "- Bjellqvist, B., Basse, B., Olsen, E. and Celis, J.E.\\\n",
    "    Reference points for comparisons of two-dimensional maps of proteins from\\\n",
    "    different human cell types defined in a pH scale where isoelectric points\\\n",
    "    correlate with polypeptide compositions. Electrophoresis 1994, 15, 529-539.\\\n",
    "\n",
    "The algorithm is designed according to a note by David L. Tabb, available at:\\\n",
    "http://fields.scripps.edu/DTASelect/20010710-pI-Algorithm.pdf \\\n",
    "\\\n",
    "This is an adaptation of BioPython's [IsoelectricPoint.py](https://github.com/biopython/biopython/blob/master/Bio/SeqUtils/IsoelectricPoint.py)\n",
    "---"
   ]
  },
  {
   "cell_type": "code",
   "execution_count": 10,
   "metadata": {},
   "outputs": [],
   "source": [
    "using Test"
   ]
  },
  {
   "cell_type": "markdown",
   "metadata": {},
   "source": [
    "---\n",
    "# Constants\n",
    "---"
   ]
  },
  {
   "cell_type": "code",
   "execution_count": 2,
   "metadata": {
    "scrolled": true
   },
   "outputs": [
    {
     "data": {
      "text/plain": [
       "\"ACDEFGHIKLMNPQRSTVWY\""
      ]
     },
     "execution_count": 2,
     "metadata": {},
     "output_type": "execute_result"
    }
   ],
   "source": [
    "positive_pKs = Dict(\"Nterm\" => 7.5, \"K\" => 10.0, \"R\" => 12.0, \"H\" => 5.98)\n",
    "\n",
    "negative_pKs = Dict(\"Cterm\" => 3.55, \"D\" => 4.05, \"E\" => 4.45, \"C\" => 9.0, \"Y\" => 10.0)\n",
    "\n",
    "pKcterminal = Dict(\"D\" => 4.55, \"E\" => 4.75)\n",
    "\n",
    "pKnterminal = Dict(\n",
    "    \"A\" => 7.59,\n",
    "    \"M\" => 7.0,\n",
    "    \"S\" => 6.93,\n",
    "    \"P\" => 8.36,\n",
    "    \"T\" => 6.82,\n",
    "    \"V\" => 7.44,\n",
    "    \"E\" => 7.7)\n",
    "\n",
    "charged_aas = (\"K\", \"R\", \"H\", \"D\", \"E\", \"C\", \"Y\")\n",
    "\n",
    "protein_letters = \"ACDEFGHIKLMNPQRSTVWY\""
   ]
  },
  {
   "cell_type": "markdown",
   "metadata": {},
   "source": [
    "---\n",
    "# Utils\n",
    "---"
   ]
  },
  {
   "cell_type": "code",
   "execution_count": 3,
   "metadata": {},
   "outputs": [
    {
     "data": {
      "text/plain": [
       "_update_pKs_tables (generic function with 1 method)"
      ]
     },
     "execution_count": 3,
     "metadata": {},
     "output_type": "execute_result"
    }
   ],
   "source": [
    "function count_amino_acids(sequence)\n",
    "    c = Dict()\n",
    "    for i in protein_letters\n",
    "        c[string(i)] = count(string(i), sequence)\n",
    "    end\n",
    "    return c\n",
    "end\n",
    "\n",
    "\n",
    "function _select_charged(aa_content)\n",
    "    charged = Dict()\n",
    "  \n",
    "    for aa in charged_aas\n",
    "        charged[aa] = convert(Float64, aa_content[aa])\n",
    "    end\n",
    "\n",
    "    charged[\"Nterm\"] = 1.0\n",
    "    charged[\"Cterm\"] = 1.0\n",
    "    return charged\n",
    "end\n",
    "\n",
    "\n",
    "function _update_pKs_tables(sequence)\n",
    "    pos_pKs = deepcopy(positive_pKs)\n",
    "    neg_pKs = deepcopy(negative_pKs)\n",
    "    nterm, cterm = sequence[1], sequence[end]\n",
    "    if nterm in keys(pKnterminal)\n",
    "        pos_pKs[\"Nterm\"] = pKnterminal[nterm]\n",
    "    end\n",
    "    if cterm in keys(pKcterminal)\n",
    "        neg_pKs[\"Cterm\"] = pKcterminal[cterm]\n",
    "    end\n",
    "    return pos_pKs, neg_pKs\n",
    "end"
   ]
  },
  {
   "cell_type": "markdown",
   "metadata": {},
   "source": [
    "---\n",
    "# Charge at given pH\n",
    "---"
   ]
  },
  {
   "cell_type": "code",
   "execution_count": 4,
   "metadata": {},
   "outputs": [
    {
     "data": {
      "text/plain": [
       "charge_at_pH (generic function with 1 method)"
      ]
     },
     "execution_count": 4,
     "metadata": {},
     "output_type": "execute_result"
    }
   ],
   "source": [
    "function charge_at_pH(pH)\n",
    "    positive_charge = 0.0\n",
    "    for (aa, pK) in pos_pKs\n",
    "        partial_charge = 1.0 / (10^(pH - pK) + 1.0)\n",
    "        positive_charge += charged_aas_content[aa] * partial_charge\n",
    "    end\n",
    "    negative_charge = 0.0\n",
    "    for (aa, pK) in neg_pKs\n",
    "        partial_charge = 1.0 / (10^(pK - pH) + 1.0)\n",
    "        negative_charge += charged_aas_content[aa] * partial_charge\n",
    "    end\n",
    "    return positive_charge - negative_charge\n",
    "end"
   ]
  },
  {
   "cell_type": "markdown",
   "metadata": {},
   "source": [
    "---\n",
    "# Calculate Isoelectric Point\n",
    "---\n"
   ]
  },
  {
   "cell_type": "code",
   "execution_count": 5,
   "metadata": {},
   "outputs": [
    {
     "data": {
      "text/plain": [
       "pI (generic function with 4 methods)"
      ]
     },
     "execution_count": 5,
     "metadata": {},
     "output_type": "execute_result"
    }
   ],
   "source": [
    "function pI(pH=7.775, min_=4.05, max_=12)\n",
    "    charge = charge_at_pH(pH)\n",
    "    if max_ - min_ > 0.0001\n",
    "        if charge > 0.0\n",
    "            min_ = pH\n",
    "        else\n",
    "            max_ = pH\n",
    "        end\n",
    "        next_pH = (min_ + max_) / 2\n",
    "        return pI(next_pH, min_, max_)\n",
    "    end\n",
    "    return pH\n",
    "end"
   ]
  },
  {
   "cell_type": "markdown",
   "metadata": {},
   "source": [
    "---\n",
    "# Tests\n",
    "---"
   ]
  },
  {
   "cell_type": "code",
   "execution_count": 6,
   "metadata": {
    "scrolled": true
   },
   "outputs": [
    {
     "data": {
      "text/plain": [
       "\u001b[32m\u001b[1mTest Passed\u001b[22m\u001b[39m"
      ]
     },
     "execution_count": 6,
     "metadata": {},
     "output_type": "execute_result"
    }
   ],
   "source": [
    "protein_sequence = \"PETER\"\n",
    "sequence = uppercase(protein_sequence)\n",
    "aa_content = count_amino_acids(sequence)\n",
    "charged_aas_content = _select_charged(aa_content)\n",
    "pos_pKs, neg_pKs = _update_pKs_tables(sequence)\n",
    "@test pI() == 4.531397819519043"
   ]
  },
  {
   "cell_type": "code",
   "execution_count": 7,
   "metadata": {},
   "outputs": [
    {
     "data": {
      "text/plain": [
       "\u001b[32m\u001b[1mTest Passed\u001b[22m\u001b[39m"
      ]
     },
     "execution_count": 7,
     "metadata": {},
     "output_type": "execute_result"
    }
   ],
   "source": [
    "@test charge_at_pH(4.531397819519043) == -1.5946248781428807e-6"
   ]
  },
  {
   "cell_type": "code",
   "execution_count": 8,
   "metadata": {
    "scrolled": false
   },
   "outputs": [
    {
     "data": {
      "text/plain": [
       "\u001b[32m\u001b[1mTest Passed\u001b[22m\u001b[39m"
      ]
     },
     "execution_count": 8,
     "metadata": {},
     "output_type": "execute_result"
    }
   ],
   "source": [
    "protein_sequence = \"INGAR\"\n",
    "sequence = uppercase(protein_sequence)\n",
    "aa_content = count_amino_acids(sequence)\n",
    "charged_aas_content = _select_charged(aa_content)\n",
    "pos_pKs, neg_pKs = _update_pKs_tables(sequence)\n",
    "@test pI() == 9.750021171569824"
   ]
  },
  {
   "cell_type": "code",
   "execution_count": 9,
   "metadata": {},
   "outputs": [
    {
     "data": {
      "text/plain": [
       "\u001b[32m\u001b[1mTest Passed\u001b[22m\u001b[39m"
      ]
     },
     "execution_count": 9,
     "metadata": {},
     "output_type": "execute_result"
    }
   ],
   "source": [
    "@test charge_at_pH(7) == 0.7600916142893016"
   ]
  }
 ],
 "metadata": {
  "kernelspec": {
   "display_name": "Julia 1.6.1",
   "language": "julia",
   "name": "julia-1.6"
  },
  "language_info": {
   "file_extension": ".jl",
   "mimetype": "application/julia",
   "name": "julia",
   "version": "1.6.1"
  }
 },
 "nbformat": 4,
 "nbformat_minor": 4
}
